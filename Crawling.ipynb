{
 "cells": [
  {
   "cell_type": "code",
   "execution_count": 5,
   "id": "76d6aeb8",
   "metadata": {},
   "outputs": [],
   "source": [
    "from selenium import webdriver\n",
    "from selenium.webdriver.common.by import By\n",
    "import pandas as pd"
   ]
  },
  {
   "cell_type": "code",
   "execution_count": null,
   "id": "2777c5e3",
   "metadata": {},
   "outputs": [],
   "source": [
    "path = \"C:\\Program Files (x86)\\chromedriver.exe\"\n",
    "driver=webdriver.Chrome(path)\n",
    "url = \"https://www.zap.co.il/models.aspx?sog=c-pclaptop\"\n",
    "driver.get(url)\n",
    "links=[]\n",
    "i=2\n",
    "while(i<=159): #159 pages\n",
    "    result= driver.find_elements(By.CLASS_NAME,'MoreInfo')\n",
    "    for x in result:\n",
    "        links.append(x.find_element(By.TAG_NAME,\"a\").get_attribute(\"href\"))\n",
    "    url2= url+\"&pageinfo=\"+str(i)\n",
    "    driver.get(url2)\n",
    "    i=i+1"
   ]
  },
  {
   "cell_type": "code",
   "execution_count": 7,
   "id": "9af78391",
   "metadata": {},
   "outputs": [],
   "source": [
    "RAM = []\n",
    "price= []\n",
    "entry_date = []\n",
    "resolution = []\n",
    "CPU = []\n",
    "gen = []\n",
    "touch_screen = []\n",
    "graphic_card = []\n",
    "company = []\n",
    "weight = []\n",
    "storage = []\n",
    "screen_size = []\n",
    "Hz = []\n",
    "op_system = []\n",
    "screen_type = []"
   ]
  },
  {
   "cell_type": "code",
   "execution_count": null,
   "id": "b11c52c4",
   "metadata": {},
   "outputs": [],
   "source": [
    "for link in links:\n",
    "    driver.get(link)\n",
    "    data = driver.find_elements(By.CLASS_NAME,'detailsRowTxt')\n",
    "    company.append(data[0].text)\n",
    "    entry_date.append(data[1].text)\n",
    "    op_system.append(data[3].text)\n",
    "    weight.append(data[5].text)  \n",
    "    CPU.append(data[7].text)\n",
    "    RAM.append(data[8].text)\n",
    "    gen.append(data[11].text)\n",
    "    storage.append(data[13].text)\n",
    "    screen_size.append(data[16].text)\n",
    "    resolution.append(data[17].text)\n",
    "    screen_type.append(data[18].text)\n",
    "    Hz.append(data[19].text)\n",
    "    touch_screen.append(data[20].text)\n",
    "    graphic_card.append(data[21].text)\n",
    "    price.append(driver.find_element(By.CLASS_NAME,\"PricesTxt\").text)"
   ]
  },
  {
   "cell_type": "code",
   "execution_count": 8,
   "id": "1e9de704",
   "metadata": {},
   "outputs": [],
   "source": [
    "data = {'Company': company, 'Entry Date':entry_date, 'Entry Date':op_system,'Weight':weight,'CPU':CPU,'Gen':gen,'RAM':RAM,'Storage':storage,'Screen Size':screen_size,'Screen Type':screen_type,'Resolution':resolution,'Hz':Hz,'Touch Screen':touch_screen,'Graphic Card':graphic_card,'Price':price}\n",
    "df = pd.DataFrame(data)"
   ]
  },
  {
   "cell_type": "code",
   "execution_count": null,
   "id": "50f4b6fa",
   "metadata": {},
   "outputs": [],
   "source": [
    "df.to_csv('laptops.csv')"
   ]
  }
 ],
 "metadata": {
  "kernelspec": {
   "display_name": "Python 3 (ipykernel)",
   "language": "python",
   "name": "python3"
  },
  "language_info": {
   "codemirror_mode": {
    "name": "ipython",
    "version": 3
   },
   "file_extension": ".py",
   "mimetype": "text/x-python",
   "name": "python",
   "nbconvert_exporter": "python",
   "pygments_lexer": "ipython3",
   "version": "3.9.13"
  }
 },
 "nbformat": 4,
 "nbformat_minor": 5
}
